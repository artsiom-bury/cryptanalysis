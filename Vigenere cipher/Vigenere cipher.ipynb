{
 "cells": [
  {
   "cell_type": "markdown",
   "id": "d92c5147",
   "metadata": {},
   "source": [
    "# Vigenere cipher\n",
    "The Vigenere cipher is a method of encrypting alphabetic text by using a series of interwoven Caesar ciphers, based on the letters of a keyword. It employs a form of polyalphabetic substitution.\n",
    "\n",
    "In a Caesar cipher, each letter of the alphabet is shifted along some number of places. For example, in a Caesar cipher of shift 3, a would become D, b would become E, y would become B and so on. The Vigenere cipher has several Caesar ciphers in sequence with different shift values."
   ]
  },
  {
   "cell_type": "markdown",
   "id": "1396d203",
   "metadata": {},
   "source": [
    "## Encrypted message analysis\n",
    "To start analysis let's take a look at our initial encrypted message"
   ]
  },
  {
   "cell_type": "code",
   "execution_count": 1,
   "id": "bebd278b",
   "metadata": {},
   "outputs": [
    {
     "name": "stdout",
     "output_type": "stream",
     "text": [
      "Encrypted message: \n",
      "AMIJSIEIAHDFXVIMAEWRJKESWESGSVEJZBPJKMRZCBNXXKODSAIUVXNSSLEYSOENGGTYWBRWAKSKNBCKGKYRYTIEKMTYWXVZDZACSVTZUXMGAKEUMKIEYMHVTTTKDXRVTXLJHBEJETNRYXDKGLTVSESVUKEKHEAEKMOKZXEDHBRVKNLKAFAKWPERHHNKZXDVSMHJLTRRFTRDGKEUKIATWLTRLBOEOBTYWGOLYAPFOXRKGWEJLKOPSGEELBRVHEAEWMPLJLUVVUYKZXEDHBRVKLIEALTVJTGVFMSGJBNTWLSCWBAISVEJZHMVSUORJWHVJLTRJLHZHVUJLHDZSGOWLAEJLHLVFILRFLTYSMCRFLAMWAEIHXOGDXAEVKEJLHRVXKEVVHMKGMHVYTLRPR\n",
      "\n",
      "Message length: 402\n"
     ]
    }
   ],
   "source": [
    "with open(\"Text1.txt\", \"r\",encoding=\"utf8\") as f:\n",
    "    main_message = f.read()\n",
    "\n",
    "print(\"Encrypted message: \\n\" + main_message)\n",
    "print(\"\\nMessage length: \" + str(len(main_message)))"
   ]
  },
  {
   "cell_type": "markdown",
   "id": "937f45d6",
   "metadata": {},
   "source": [
    "For futher decryption we should calculate the frequencies of the letters in our initial message and compare their distribution to the natural letter frequency distribution from open sources"
   ]
  },
  {
   "cell_type": "code",
   "execution_count": 2,
   "id": "b7304de4",
   "metadata": {},
   "outputs": [
    {
     "data": {
      "text/html": [
       "<div>\n",
       "<style scoped>\n",
       "    .dataframe tbody tr th:only-of-type {\n",
       "        vertical-align: middle;\n",
       "    }\n",
       "\n",
       "    .dataframe tbody tr th {\n",
       "        vertical-align: top;\n",
       "    }\n",
       "\n",
       "    .dataframe thead th {\n",
       "        text-align: right;\n",
       "    }\n",
       "</style>\n",
       "<table border=\"1\" class=\"dataframe\">\n",
       "  <thead>\n",
       "    <tr style=\"text-align: right;\">\n",
       "      <th></th>\n",
       "      <th>Letters</th>\n",
       "      <th>Frequency</th>\n",
       "    </tr>\n",
       "  </thead>\n",
       "  <tbody>\n",
       "    <tr>\n",
       "      <th>0</th>\n",
       "      <td>E</td>\n",
       "      <td>8.208955</td>\n",
       "    </tr>\n",
       "    <tr>\n",
       "      <th>1</th>\n",
       "      <td>K</td>\n",
       "      <td>7.213930</td>\n",
       "    </tr>\n",
       "    <tr>\n",
       "      <th>2</th>\n",
       "      <td>V</td>\n",
       "      <td>6.716418</td>\n",
       "    </tr>\n",
       "    <tr>\n",
       "      <th>3</th>\n",
       "      <td>L</td>\n",
       "      <td>6.467662</td>\n",
       "    </tr>\n",
       "    <tr>\n",
       "      <th>4</th>\n",
       "      <td>R</td>\n",
       "      <td>5.472637</td>\n",
       "    </tr>\n",
       "    <tr>\n",
       "      <th>5</th>\n",
       "      <td>T</td>\n",
       "      <td>5.223881</td>\n",
       "    </tr>\n",
       "    <tr>\n",
       "      <th>6</th>\n",
       "      <td>H</td>\n",
       "      <td>4.975124</td>\n",
       "    </tr>\n",
       "    <tr>\n",
       "      <th>7</th>\n",
       "      <td>S</td>\n",
       "      <td>4.975124</td>\n",
       "    </tr>\n",
       "    <tr>\n",
       "      <th>8</th>\n",
       "      <td>A</td>\n",
       "      <td>4.726368</td>\n",
       "    </tr>\n",
       "    <tr>\n",
       "      <th>9</th>\n",
       "      <td>J</td>\n",
       "      <td>4.477612</td>\n",
       "    </tr>\n",
       "    <tr>\n",
       "      <th>10</th>\n",
       "      <td>M</td>\n",
       "      <td>3.980100</td>\n",
       "    </tr>\n",
       "    <tr>\n",
       "      <th>11</th>\n",
       "      <td>X</td>\n",
       "      <td>3.980100</td>\n",
       "    </tr>\n",
       "    <tr>\n",
       "      <th>12</th>\n",
       "      <td>W</td>\n",
       "      <td>3.731343</td>\n",
       "    </tr>\n",
       "    <tr>\n",
       "      <th>13</th>\n",
       "      <td>G</td>\n",
       "      <td>3.731343</td>\n",
       "    </tr>\n",
       "    <tr>\n",
       "      <th>14</th>\n",
       "      <td>I</td>\n",
       "      <td>2.985075</td>\n",
       "    </tr>\n",
       "    <tr>\n",
       "      <th>15</th>\n",
       "      <td>B</td>\n",
       "      <td>2.985075</td>\n",
       "    </tr>\n",
       "    <tr>\n",
       "      <th>16</th>\n",
       "      <td>Y</td>\n",
       "      <td>2.985075</td>\n",
       "    </tr>\n",
       "    <tr>\n",
       "      <th>17</th>\n",
       "      <td>D</td>\n",
       "      <td>2.736318</td>\n",
       "    </tr>\n",
       "    <tr>\n",
       "      <th>18</th>\n",
       "      <td>O</td>\n",
       "      <td>2.736318</td>\n",
       "    </tr>\n",
       "    <tr>\n",
       "      <th>19</th>\n",
       "      <td>Z</td>\n",
       "      <td>2.736318</td>\n",
       "    </tr>\n",
       "    <tr>\n",
       "      <th>20</th>\n",
       "      <td>U</td>\n",
       "      <td>2.238806</td>\n",
       "    </tr>\n",
       "    <tr>\n",
       "      <th>21</th>\n",
       "      <td>F</td>\n",
       "      <td>1.990050</td>\n",
       "    </tr>\n",
       "    <tr>\n",
       "      <th>22</th>\n",
       "      <td>N</td>\n",
       "      <td>1.990050</td>\n",
       "    </tr>\n",
       "    <tr>\n",
       "      <th>23</th>\n",
       "      <td>P</td>\n",
       "      <td>1.492537</td>\n",
       "    </tr>\n",
       "    <tr>\n",
       "      <th>24</th>\n",
       "      <td>C</td>\n",
       "      <td>1.243781</td>\n",
       "    </tr>\n",
       "  </tbody>\n",
       "</table>\n",
       "</div>"
      ],
      "text/plain": [
       "   Letters  Frequency\n",
       "0        E   8.208955\n",
       "1        K   7.213930\n",
       "2        V   6.716418\n",
       "3        L   6.467662\n",
       "4        R   5.472637\n",
       "5        T   5.223881\n",
       "6        H   4.975124\n",
       "7        S   4.975124\n",
       "8        A   4.726368\n",
       "9        J   4.477612\n",
       "10       M   3.980100\n",
       "11       X   3.980100\n",
       "12       W   3.731343\n",
       "13       G   3.731343\n",
       "14       I   2.985075\n",
       "15       B   2.985075\n",
       "16       Y   2.985075\n",
       "17       D   2.736318\n",
       "18       O   2.736318\n",
       "19       Z   2.736318\n",
       "20       U   2.238806\n",
       "21       F   1.990050\n",
       "22       N   1.990050\n",
       "23       P   1.492537\n",
       "24       C   1.243781"
      ]
     },
     "execution_count": 2,
     "metadata": {},
     "output_type": "execute_result"
    }
   ],
   "source": [
    "import pandas as pd\n",
    "import numpy as np\n",
    "\n",
    "\n",
    "main_letters = list(set(main_message)) \n",
    "\n",
    "main_count_letters = [main_message.count(i)/len(main_message)*100 for i in main_letters]\n",
    "    \n",
    "df = pd.DataFrame({'Letters': main_letters, 'Frequency': main_count_letters})\n",
    "df = df.sort_values(by='Frequency', ascending = False).reset_index(drop=True)\n",
    "\n",
    "df"
   ]
  },
  {
   "cell_type": "markdown",
   "id": "a5300414",
   "metadata": {},
   "source": [
    "Here is a natural letter frequency distribution from the <a href=\"https://en.wikipedia.org/wiki/Letter_frequency\">wikipedia article</a>"
   ]
  },
  {
   "cell_type": "code",
   "execution_count": 3,
   "id": "cb4b9dd9",
   "metadata": {},
   "outputs": [],
   "source": [
    "nat_letters = ['E', 'T', 'A', 'O', 'I', 'N', 'S', 'H', 'R', 'D', 'L', 'C', 'U', 'M', 'W', 'F', 'G', 'Y', 'P', 'B', 'V',\n",
    "               'K', 'X', 'J', 'Q', 'Z']\n",
    "\n",
    "nat_letters_freq = [13.0, 9.1, 8.2, 7.5, 7.0, 6.7, 6.3, 6.1, 6.0, 4.3, 4.0, 2.8, 2.8, 2.4, 2.4, 2.2, 2.0, 2.0, 1.9, 1.5,\n",
    "                    0.98, 0.77, 0.15, 0.15, 0.095, 0.074]"
   ]
  },
  {
   "cell_type": "markdown",
   "id": "0feefba9",
   "metadata": {},
   "source": [
    "And now let's compare natural and encrypted frequencies with barplot"
   ]
  },
  {
   "cell_type": "code",
   "execution_count": 4,
   "id": "4bb23c88",
   "metadata": {},
   "outputs": [
    {
     "data": {
      "image/png": "[encoded data removed]",
      "text/plain": [
       "<Figure size 1080x288 with 2 Axes>"
      ]
     },
     "metadata": {
      "needs_background": "light"
     },
     "output_type": "display_data"
    }
   ],
   "source": [
    "import matplotlib.pyplot as plt\n",
    "fig, ax = plt.subplots(1,2,figsize=(15,4))\n",
    "\n",
    "ax[0].bar(np.arange(len(nat_letters_freq)), nat_letters_freq)\n",
    "ax[0].set_xticks(np.arange(len(nat_letters_freq)), nat_letters)\n",
    "ax[0].set_title('Natural letter frequency')\n",
    "ax[0].set_ylabel('Frequency, %')\n",
    "\n",
    "ax[1].bar(np.arange(len(df['Letters'])), df['Frequency'])\n",
    "ax[1].set_xticks(np.arange(len(df['Letters'])), df['Letters'])\n",
    "ax[1].set_title('Encrypted letter frequency')\n",
    "ax[1].set_ylabel('Frequency, %')\n",
    "\n",
    "plt.show()"
   ]
  },
  {
   "cell_type": "markdown",
   "id": "f6e34829",
   "metadata": {},
   "source": [
    "It's obviously that we have different shape of these distributions. It means this is not Caesar cipher (which is the same with Vigenere cipher with key length equals 1), so we need to find out the key length.\n",
    "\n",
    "## Key length search\n",
    "\n",
    "We should find all the repeated parts in our encrypted text and calculate the distancies between them"
   ]
  },
  {
   "cell_type": "code",
   "execution_count": 5,
   "id": "dd2c5b7d",
   "metadata": {},
   "outputs": [
    {
     "data": {
      "text/plain": [
       "[[5, 'SVEJZ', [276]],\n",
       " [5, 'KZXED', [104]],\n",
       " [5, 'ZXEDH', [104]],\n",
       " [5, 'XEDHB', [104]],\n",
       " [5, 'EDHBR', [104]],\n",
       " [5, 'DHBRV', [104]],\n",
       " [5, 'HBRVK', [104]],\n",
       " [6, 'KZXEDH', [104]],\n",
       " [6, 'ZXEDHB', [104]],\n",
       " [6, 'XEDHBR', [104]],\n",
       " [6, 'EDHBRV', [104]],\n",
       " [6, 'DHBRVK', [104]],\n",
       " [7, 'KZXEDHB', [104]],\n",
       " [7, 'ZXEDHBR', [104]],\n",
       " [7, 'XEDHBRV', [104]],\n",
       " [7, 'EDHBRVK', [104]],\n",
       " [8, 'KZXEDHBR', [104]],\n",
       " [8, 'ZXEDHBRV', [104]],\n",
       " [8, 'XEDHBRVK', [104]],\n",
       " [9, 'KZXEDHBRV', [104]],\n",
       " [9, 'ZXEDHBRVK', [104]],\n",
       " [10, 'KZXEDHBRVK', [104]]]"
      ]
     },
     "execution_count": 5,
     "metadata": {},
     "output_type": "execute_result"
    }
   ],
   "source": [
    "words_freq = []\n",
    "for n in range(5,14):\n",
    "    for i in range(len(main_message)-n+1):\n",
    "        word = main_message[i:i+n]\n",
    "        j=i\n",
    "        pos = main_message.find(word)\n",
    "        pos_ar = []\n",
    "        if main_message.find(word, j+n) != -1:\n",
    "            while main_message.find(word, j+n) != -1:\n",
    "                pos_ar.append(main_message.find(word, j+n)-pos)\n",
    "                pos = main_message.find(word, j+n)\n",
    "                j = main_message.find(word, j+n)\n",
    "            words_freq.append([len(word), word, pos_ar])\n",
    "\n",
    "words_freq"
   ]
  },
  {
   "cell_type": "markdown",
   "id": "5c1fd70a",
   "metadata": {},
   "source": [
    "As we can see we have 104 and 276 distancies. The greatest common divisor of these numbers is 4. It means that we should start with the key length equal to 4"
   ]
  },
  {
   "cell_type": "code",
   "execution_count": 6,
   "id": "925b4969",
   "metadata": {},
   "outputs": [],
   "source": [
    "key_length = 4"
   ]
  },
  {
   "cell_type": "markdown",
   "id": "8bfec321",
   "metadata": {},
   "source": [
    "### Decryption functions\n",
    "\n",
    "<p><img style=\"float: right;margin:5px 20px 5px 1px; max-width:400px\" src=\"https://upload.wikimedia.org/wikipedia/commons/9/9a/Vigen%C3%A8re_square_shading.svg\"></p>\n",
    "To encrypt, a table of alphabets can be used, termed a tabula recta, Vigenère square or Vigenère table. It has the alphabet written out 26 times in different rows, each alphabet shifted cyclically to the left compared to the previous alphabet, corresponding to the 26 possible Caesar ciphers. At different points in the encryption process, the cipher uses a different alphabet from one of the rows. The alphabet used at each point depends on a repeating keyword.\n",
    "\n",
    "Decryption is performed by going to the row in the table corresponding to the key, finding the position of the ciphertext letter in that row and then using the column's label as the plaintext.\n",
    "\n",
    "This method implemented into originalText function."
   ]
  },
  {
   "cell_type": "code",
   "execution_count": 7,
   "id": "cef3c32c",
   "metadata": {},
   "outputs": [],
   "source": [
    "def originalText(cipher_text, key):\n",
    "    '''Decrypts text with the one letter key'''\n",
    "    orig_text = []\n",
    "    for i in range(len(cipher_text)):\n",
    "        x = (ord(cipher_text[i]) -\n",
    "             ord(key) + 26) % 26\n",
    "        x += ord('A')\n",
    "        orig_text.append(chr(x))\n",
    "    return(\"\" . join(orig_text))"
   ]
  },
  {
   "cell_type": "markdown",
   "id": "4fdf64f1",
   "metadata": {},
   "source": [
    "Also we need two functions to split our text into key_length parts and to merge splitted text back"
   ]
  },
  {
   "cell_type": "code",
   "execution_count": 8,
   "id": "c21084f4",
   "metadata": {},
   "outputs": [],
   "source": [
    "def split_message(message, n):\n",
    "    '''Splits message into n parts Every i-th letter goes to the i-th part of messages_list'''\n",
    "    messages_list = [''] * n\n",
    "    for i in range(len(message)):\n",
    "        messages_list[i%n]+=message[i]\n",
    "    return messages_list"
   ]
  },
  {
   "cell_type": "code",
   "execution_count": 9,
   "id": "874b3624",
   "metadata": {},
   "outputs": [],
   "source": [
    "def merge_message(message_array):\n",
    "    '''Merges splitted message'''\n",
    "    result = ['']*len(message_array[0])\n",
    "    for i in message_array:\n",
    "        for j in range(len(i)):\n",
    "            result[j] += i[j]\n",
    "    return ''.join(result)"
   ]
  },
  {
   "cell_type": "markdown",
   "id": "af291409",
   "metadata": {},
   "source": [
    "## Keys search\n",
    "\n",
    "To find the key we should compare letters distribution for each splitted message with the natural letters distribution for every key letter and then calculate the Match Score. In our case Match Score calculates as the sum of distancies between corresponding letters positions in natural and decrypted distributions. The less Match Score of key letter the bigger probability of its correctness. Our output shows us the key letters for each position in Vigenere key sorted by distancies."
   ]
  },
  {
   "cell_type": "code",
   "execution_count": 10,
   "id": "c4b93a52",
   "metadata": {},
   "outputs": [
    {
     "name": "stdout",
     "output_type": "stream",
     "text": [
      "[[82, 'S'], [150, 'H'], [182, 'O'], [186, 'D'], [196, 'T'], [202, 'W'], [210, 'R'], [214, 'L'], [222, 'Z'], [226, 'E'], [234, 'F'], [234, 'G'], [234, 'P'], [236, 'C'], [236, 'Y'], [238, 'U'], [240, 'J'], [246, 'A'], [246, 'V'], [250, 'N'], [252, 'Q'], [254, 'I'], [258, 'B'], [258, 'M'], [258, 'X'], [264, 'K']]\n",
      "\n",
      "[[78, 'T'], [176, 'I'], [182, 'E'], [184, 'X'], [208, 'U'], [212, 'D'], [212, 'P'], [220, 'S'], [224, 'R'], [226, 'H'], [228, 'A'], [230, 'Z'], [232, 'G'], [232, 'J'], [232, 'M'], [236, 'B'], [236, 'C'], [238, 'K'], [240, 'N'], [242, 'O'], [246, 'Q'], [254, 'F'], [256, 'Y'], [258, 'V'], [268, 'W'], [280, 'L']]\n",
      "\n",
      "[[40, 'A'], [182, 'P'], [186, 'E'], [186, 'L'], [204, 'W'], [212, 'K'], [214, 'G'], [216, 'B'], [222, 'M'], [222, 'N'], [226, 'H'], [226, 'Q'], [226, 'V'], [228, 'R'], [230, 'T'], [234, 'U'], [234, 'Z'], [238, 'Y'], [240, 'I'], [244, 'J'], [250, 'O'], [256, 'C'], [256, 'S'], [258, 'X'], [260, 'D'], [260, 'F']]\n",
      "\n",
      "[[60, 'R'], [182, 'G'], [198, 'C'], [198, 'V'], [202, 'S'], [208, 'Q'], [212, 'D'], [216, 'Y'], [218, 'N'], [220, 'E'], [220, 'K'], [228, 'W'], [228, 'Z'], [232, 'A'], [232, 'H'], [232, 'L'], [234, 'B'], [238, 'F'], [246, 'P'], [252, 'J'], [252, 'O'], [254, 'M'], [258, 'I'], [264, 'X'], [274, 'T'], [284, 'U']]\n",
      "\n"
     ]
    }
   ],
   "source": [
    "message_splitted = split_message(main_message, key_length)\n",
    "res_f=[]\n",
    "for j in range(key_length):\n",
    "    res = []\n",
    "    for i in range(ord('A'),ord('Z')+1): \n",
    "        decrypted_text = originalText(message_splitted[j], chr(i))\n",
    "\n",
    "        main_count_letters = [decrypted_text.count(i)/len(decrypted_text) for i in nat_letters]\n",
    "\n",
    "        df_n = pd.DataFrame({'Letters': nat_letters, 'Frequency': main_count_letters})\n",
    "        df_n = df_n.sort_values(by='Frequency', ascending=False).reset_index(drop=True)\n",
    "        df_n['Natural letters'] = nat_letters\n",
    "        dist = 0\n",
    "        for k in range(len(df_n)):\n",
    "            dist += abs(k - df_n[df_n['Natural letters'] == df_n.iloc[k,0]].index[0])\n",
    "\n",
    "        res.append([dist,chr(i)])\n",
    "    res_f.append(sorted(res))\n",
    "for j in range(key_length):\n",
    "    print(res_f[j])\n",
    "    print()"
   ]
  },
  {
   "cell_type": "markdown",
   "id": "3d5d7b57",
   "metadata": {},
   "source": [
    "There is a big difference in distancies (between first and others), so we can take the first letters from every list and compose a Vigenere key from them. In case of less differencies we should test combinations of several first letters from the lists, but now we can stop and don't go deeper."
   ]
  },
  {
   "cell_type": "code",
   "execution_count": 11,
   "id": "78d1c6b2",
   "metadata": {},
   "outputs": [],
   "source": [
    "keys = ['STAR']"
   ]
  },
  {
   "cell_type": "markdown",
   "id": "9f65a36d",
   "metadata": {},
   "source": [
    "## Final decryption"
   ]
  },
  {
   "cell_type": "code",
   "execution_count": 12,
   "id": "0a775be4",
   "metadata": {},
   "outputs": [
    {
     "name": "stdout",
     "output_type": "stream",
     "text": [
      "ITISAPERIODOFCIVILWARREBELSPACESHIPSSTRIKINGFROMAHIDDENBASEHAVEWONTHEIRFIRSTVICTORYAGAINSTTHEEVILGALACTICEMPIREDURINGTHEBATTLEREBELSPIESMANAGEDTOSTEALSECRETPLANSTOTHEEMPIRESULTIMATEWEAPONTHEDEATHSTARANARMOREDSPACESTATIONWITHENOUGHPOWERTODESTROYANENTIREPLANETPURSUEDBYTHEEMPIRESSINISTERAGENTSPRINCESSLEIARACESHOMEABOARDHERSTARSHIPCUSTODIANOFTHESTOLENPLANSTHATCANSAVEHERPEOPLEANDRESTOREFREEDOMTOTHEGALAXY\n"
     ]
    }
   ],
   "source": [
    "for key in keys:\n",
    "    decr_message = [\"\"]*key_length\n",
    "    for j in range(key_length):\n",
    "        decr_message[j] = originalText(message_splitted[j], key[j])\n",
    "\n",
    "    print(merge_message(decr_message))"
   ]
  },
  {
   "cell_type": "markdown",
   "id": "7a9368dd",
   "metadata": {},
   "source": [
    "Finally we have decrypted message!\n",
    "\n",
    "This is opening crawl from the Star Wars: Episode IV - A New Hope"
   ]
  }
 ],
 "metadata": {
  "kernelspec": {
   "display_name": "Python 3 (ipykernel)",
   "language": "python",
   "name": "python3"
  },
  "language_info": {
   "codemirror_mode": {
    "name": "ipython",
    "version": 3
   },
   "file_extension": ".py",
   "mimetype": "text/x-python",
   "name": "python",
   "nbconvert_exporter": "python",
   "pygments_lexer": "ipython3",
   "version": "3.9.12"
  }
 },
 "nbformat": 4,
 "nbformat_minor": 5
}
